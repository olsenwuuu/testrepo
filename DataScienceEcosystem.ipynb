{
 "cells": [
  {
   "cell_type": "markdown",
   "id": "71e43176-5b8e-4c46-9ab8-d71f87008626",
   "metadata": {},
   "source": [
    "# Exercise 2: Create markdown cell with title of the notebookm"
   ]
  },
  {
   "cell_type": "markdown",
   "id": "570b181d-ee1a-4423-a4a1-19b54428509e",
   "metadata": {},
   "source": [
    "# Data Science Tools and Ecosystem"
   ]
  },
  {
   "cell_type": "markdown",
   "id": "e2592236-fdaa-41bd-be4f-bbaa4912e95c",
   "metadata": {},
   "source": [
    "# Exercise 3 - Create a markdown cell for an introduction"
   ]
  },
  {
   "cell_type": "markdown",
   "id": "6de68048-eea1-4063-bac2-fd78f9c0c232",
   "metadata": {},
   "source": [
    "'In this notebook, Data Science Tools and Ecosystem are summarized.'"
   ]
  },
  {
   "cell_type": "markdown",
   "id": "ecbb7af1-1e8d-4e71-81db-825a3516c396",
   "metadata": {},
   "source": [
    "***Objectives:***\n",
    "- List popular languages for Data Science\n",
    "- List commonly used libraries used by Data Scientists\n",
    "- Create a table of Data Science tools"
   ]
  },
  {
   "cell_type": "markdown",
   "id": "428e8124-c76f-4709-b6cb-9b510c7513d8",
   "metadata": {},
   "source": [
    "# Exercise 4 - Create a markdown cell to list data science languages"
   ]
  },
  {
   "cell_type": "markdown",
   "id": "3cacb3da-a398-4f9a-ae90-05dd369611ce",
   "metadata": {},
   "source": [
    "Some of the popular languages that Data Scientists use are:\n",
    "1. Python\n",
    "2. SQL\n",
    "3. R"
   ]
  },
  {
   "cell_type": "markdown",
   "id": "a71d7480-d703-46f3-87f1-af6fb11aa586",
   "metadata": {},
   "source": [
    "# Exercise 5 - Create a markdown cell to list data science libraries"
   ]
  },
  {
   "cell_type": "markdown",
   "id": "09040770-c6b0-4062-a23a-12136d641084",
   "metadata": {},
   "source": [
    "Some of the commonly used libraries used by Data Scientists include:\n",
    "1. Matplotlib\n",
    "2. Pandas\n",
    "3. NumPy"
   ]
  },
  {
   "cell_type": "markdown",
   "id": "3e9724ce-a45c-499e-85f4-39606d237e4b",
   "metadata": {},
   "source": [
    "# Exercise 6 - Create a markdown cell with a table of Data Science tools"
   ]
  },
  {
   "cell_type": "markdown",
   "id": "5959e3d7-1381-4b8f-a339-03fa9daa3107",
   "metadata": {},
   "source": [
    "| Data Science Tools |\n",
    "| ---- |\n",
    "| Python |\n",
    "| R |\n",
    "| Apache Spark |"
   ]
  },
  {
   "cell_type": "markdown",
   "id": "9293a4c5-ad4d-49a4-b1e9-b3638f5c5bb5",
   "metadata": {},
   "source": [
    "# Exercise 7 - Create a markdown cell introducing arithmetic expression examples"
   ]
  },
  {
   "cell_type": "markdown",
   "id": "4c283364-90c9-4542-af4a-8fc20bef8262",
   "metadata": {},
   "source": [
    "### Below are a few examples of evaluating arithmetic expressions in Python"
   ]
  },
  {
   "cell_type": "markdown",
   "id": "88fc8265-0dfa-4547-91ec-921dad317088",
   "metadata": {},
   "source": [
    "# Exercise 8 - Create a code cell to multiply and add numbers"
   ]
  },
  {
   "cell_type": "markdown",
   "id": "50d26f32-e40c-486d-a579-b21674adadc3",
   "metadata": {},
   "source": [
    "*This a simple arithmetic expression to mutiply then add integers*"
   ]
  },
  {
   "cell_type": "code",
   "execution_count": 5,
   "id": "1c80767e-d9bf-4228-a010-cf849123f769",
   "metadata": {},
   "outputs": [
    {
     "data": {
      "text/plain": [
       "17"
      ]
     },
     "execution_count": 5,
     "metadata": {},
     "output_type": "execute_result"
    }
   ],
   "source": [
    "(3*4)+5"
   ]
  },
  {
   "cell_type": "markdown",
   "id": "eaf11977-cd3c-49b1-9fea-e9858a024364",
   "metadata": {},
   "source": [
    "# Exercise 9 - Create a code cell to convert minutes to hours"
   ]
  },
  {
   "cell_type": "markdown",
   "id": "da209e68-a379-403b-bee3-49a731dbc273",
   "metadata": {},
   "source": [
    "*This will convert 200 minutes to hours by diving by 60*"
   ]
  },
  {
   "cell_type": "code",
   "execution_count": 6,
   "id": "e21d369c-1dbe-4f61-8d4a-4fcf96fdca8f",
   "metadata": {},
   "outputs": [
    {
     "data": {
      "text/plain": [
       "3.3333333333333335"
      ]
     },
     "execution_count": 6,
     "metadata": {},
     "output_type": "execute_result"
    }
   ],
   "source": [
    "200/60"
   ]
  },
  {
   "cell_type": "markdown",
   "id": "3e793145-546a-4612-a7b2-06249414c41d",
   "metadata": {},
   "source": [
    "# Exercise 10 - Insert a markdown cell to list Objectives"
   ]
  },
  {
   "cell_type": "markdown",
   "id": "1eaa9cc0-1847-4308-aed9-61c344cd968b",
   "metadata": {},
   "source": [
    "In this notebook, Data Science Tools and Ecosystem are summarized."
   ]
  },
  {
   "cell_type": "markdown",
   "id": "243cbd9d-7797-493a-9cf3-ce8560c7b0df",
   "metadata": {},
   "source": [
    "***Objectives:***\n",
    "- List popular languages for Data Science\n",
    "- List commonly used libraries used by Data Scientists\n",
    "- Create a table of Data Science tools"
   ]
  },
  {
   "cell_type": "markdown",
   "id": "be5346ab-c98e-4bed-83ec-78daa5e49ff1",
   "metadata": {},
   "source": [
    "# Exercise 11 - Create a markdown cell to indicate the Author's name"
   ]
  },
  {
   "cell_type": "markdown",
   "id": "735b472e-5b0f-4100-bd33-678baf760e75",
   "metadata": {},
   "source": [
    "## Author\n",
    "Olsen Wu"
   ]
  },
  {
   "cell_type": "code",
   "execution_count": null,
   "id": "16a558df-42ee-42b4-8f5a-bb8741e14ea1",
   "metadata": {},
   "outputs": [],
   "source": []
  }
 ],
 "metadata": {
  "kernelspec": {
   "display_name": "Python 3 (ipykernel)",
   "language": "python",
   "name": "python3"
  },
  "language_info": {
   "codemirror_mode": {
    "name": "ipython",
    "version": 3
   },
   "file_extension": ".py",
   "mimetype": "text/x-python",
   "name": "python",
   "nbconvert_exporter": "python",
   "pygments_lexer": "ipython3",
   "version": "3.11.9"
  }
 },
 "nbformat": 4,
 "nbformat_minor": 5
}
